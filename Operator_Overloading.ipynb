{
  "nbformat": 4,
  "nbformat_minor": 0,
  "metadata": {
    "colab": {
      "provenance": []
    },
    "kernelspec": {
      "name": "python3",
      "display_name": "Python 3"
    },
    "language_info": {
      "name": "python"
    }
  },
  "cells": [
    {
      "cell_type": "code",
      "execution_count": null,
      "metadata": {
        "colab": {
          "base_uri": "https://localhost:8080/"
        },
        "id": "j7U2mRR8CzBH",
        "outputId": "6d41103c-63ac-4734-bc4e-1b094ac1a36d"
      },
      "outputs": [
        {
          "output_type": "stream",
          "name": "stdout",
          "text": [
            "(7, 9)\n",
            "(-3, -3)\n",
            "(10, 18)\n"
          ]
        }
      ],
      "source": [
        "class Vector:\n",
        "  def __init__(self,x,y):\n",
        "    self.x=x\n",
        "    self.y=y\n",
        "\n",
        "  def __add__(self,other):\n",
        "    return (self.x+other.x,self.y+other.y)\n",
        "\n",
        "  def __mul__(self,other):\n",
        "    return (self.x*other.x,self.y*other.y)\n",
        "\n",
        "  def __sub__(self,other):\n",
        "    return (self.x-other.x,self.y-other.y)\n",
        "\n",
        "  def __eq__(self,other):\n",
        "    return self.x==other.x and self.y==other.y\n",
        "\n",
        "  def __repr__(self,other):\n",
        "    return f\"{self.x},{self.y}\"\n",
        "\n",
        "\n",
        "v1=Vector(2,3)\n",
        "v2=Vector(5,6)\n",
        "print(v1+v2)\n",
        "print(v1-v2)\n",
        "print(v1*v2)\n",
        "\n",
        "#As you can see above, the operators +,-,* are defined by the operation overloading functions we have defined above inside the class, similarly we can define our own functions like this\n",
        "#Practice some questions here\n"
      ]
    }
  ]
}