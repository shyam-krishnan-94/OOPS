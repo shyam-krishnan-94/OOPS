{
  "nbformat": 4,
  "nbformat_minor": 0,
  "metadata": {
    "colab": {
      "provenance": []
    },
    "kernelspec": {
      "name": "python3",
      "display_name": "Python 3"
    },
    "language_info": {
      "name": "python"
    }
  },
  "cells": [
    {
      "cell_type": "code",
      "execution_count": 2,
      "metadata": {
        "colab": {
          "base_uri": "https://localhost:8080/"
        },
        "id": "OYZZVLJoS4aB",
        "outputId": "b11e87be-427d-4ce0-d627-27987737ad18"
      },
      "outputs": [
        {
          "output_type": "stream",
          "name": "stdout",
          "text": [
            "He Bats\n",
            "He Bowls\n",
            "He keeps wickets\n"
          ]
        }
      ],
      "source": [
        "#What is method overriding and what its role?\n",
        "\n",
        "#When a method in the child class can override a method in the parent class by taking its own specific attributes\n",
        "\n",
        "class Batsman:\n",
        "  def role(self):\n",
        "    return \"He Bats\"\n",
        "\n",
        "class Bowler:\n",
        "  def role(self):\n",
        "    return \"He Bowls\"\n",
        "\n",
        "class Wicket_keeper:\n",
        "  def role(self):\n",
        "    return \"He keeps wickets\"\n",
        "\n",
        "S=[Batsman(),Bowler(),Wicket_keeper()]\n",
        "for i in S:\n",
        "  obj=i\n",
        "  print(obj.role())\n",
        "\n",
        "#Note how the return statements differ when we iterate through different classes of different objects"
      ]
    },
    {
      "cell_type": "markdown",
      "source": [
        "An abstract class is like a template or blueprint for other classes.\n",
        "It cannot be instantiated directly — you can’t create an object of it.\n",
        "\n",
        "Instead, it defines a structure that child classes must follow.\n",
        "\n",
        "An abstract method is a method without a body (just declared, not implemented) in the parent class.\n",
        "\n",
        "Every child class must implement that method, or else Python will throw an error.\n",
        "\n",
        "🚦 Why use Abstract Classes?\n",
        "\n",
        "Think of them as rules or contracts that enforce consistency in design. Lets say you miss the abstract method, then if you miss any other method in your child class, then it wont thrown an error then, but it will throw an error when you try to execute or call the object method from outside. abstract method will prevent this error and remind you in case you forgot to include any method that was defined in the base class in your derived class"
      ],
      "metadata": {
        "id": "vqfcgTdpaBF7"
      }
    },
    {
      "cell_type": "code",
      "source": [
        "#Polymorphism with abstract base class\n",
        "\n",
        "from abc import ABC,abstractmethod\n",
        "#Define an abstract class\n",
        "\n",
        "class Vehicle(ABC):\n",
        "  @abstractmethod\n",
        "  def startEngine(self):\n",
        "    pass\n",
        "\n",
        "#Derived class 1\n",
        "\n",
        "class Car(Vehicle):\n",
        "  def startEngine(self):\n",
        "    return \"Car engine started\"\n",
        "\n",
        "#Derived Class 2\n",
        "\n",
        "class Bike(Vehicle):\n",
        "  def startEngine(self):\n",
        "    return \"Bike started\"\n",
        "  pass\n",
        "\n",
        "#Created objects of car and bike\n",
        "\n",
        "car=Car()\n",
        "bike=Bike()\n",
        "\n",
        "#Function to demonstrate Polymorphism\n",
        "\n",
        "def start_vehicle(Vehicle):\n",
        "  print(Vehicle.startEngine())\n",
        "\n",
        "\n",
        "\n",
        "start_vehicle(car)"
      ],
      "metadata": {
        "colab": {
          "base_uri": "https://localhost:8080/"
        },
        "id": "d4Bn1uiBXTr2",
        "outputId": "7db00f07-ea5d-4a58-9f5b-cf317fe0e728"
      },
      "execution_count": 6,
      "outputs": [
        {
          "output_type": "stream",
          "name": "stdout",
          "text": [
            "Car engine started\n"
          ]
        }
      ]
    }
  ]
}