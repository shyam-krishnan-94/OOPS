{
  "nbformat": 4,
  "nbformat_minor": 0,
  "metadata": {
    "colab": {
      "provenance": []
    },
    "kernelspec": {
      "name": "python3",
      "display_name": "Python 3"
    },
    "language_info": {
      "name": "python"
    }
  },
  "cells": [
    {
      "cell_type": "code",
      "execution_count": null,
      "metadata": {
        "id": "q2kBrUIV22Xt"
      },
      "outputs": [],
      "source": [
        "#Concept of hiding the complex implementation details and showing only the necessary features of objects\n",
        "\n",
        "#Reduces the program complexity\n",
        "#Review this again with examples\n"
      ]
    },
    {
      "cell_type": "code",
      "source": [
        "from abc import ABC,abstractmethod\n",
        "#ABC - Abstract base class\n",
        "\n",
        "class Vehicle(ABC):\n",
        "  def drive(self):\n",
        "    print(\"The vehicle is used for driving\")\n",
        "\n",
        "  @abstractmethod\n",
        "  def start_Engine(self):\n",
        "    pass\n",
        "\n",
        "class Car(Vehicle):\n",
        "  def start_Engine(self):\n",
        "    print(\"Car Engine started\")\n",
        "\n",
        "def operate_Vehicle(obj):\n",
        "  obj.start_Engine()\n",
        "\n",
        "car=Car()\n",
        "operate_Vehicle(car)\n"
      ],
      "metadata": {
        "colab": {
          "base_uri": "https://localhost:8080/"
        },
        "id": "h0bsfs0c3Wgv",
        "outputId": "40f15c57-1c19-4853-fa39-581f7af54331"
      },
      "execution_count": 2,
      "outputs": [
        {
          "output_type": "stream",
          "name": "stdout",
          "text": [
            "Car Engine started\n"
          ]
        }
      ]
    },
    {
      "cell_type": "code",
      "source": [
        "#Magic methods\n",
        "\n",
        "class Person:\n",
        "  pass\n",
        "\n",
        "person=Person()\n",
        "dir(person)\n",
        "\n",
        "#All of these are called magic methods. Helps alter behaviour of certain parameters"
      ],
      "metadata": {
        "colab": {
          "base_uri": "https://localhost:8080/"
        },
        "id": "M79rAWh86Irf",
        "outputId": "2a5f7b24-7728-4f39-e603-3f0befdff213"
      },
      "execution_count": 3,
      "outputs": [
        {
          "output_type": "execute_result",
          "data": {
            "text/plain": [
              "['__class__',\n",
              " '__delattr__',\n",
              " '__dict__',\n",
              " '__dir__',\n",
              " '__doc__',\n",
              " '__eq__',\n",
              " '__format__',\n",
              " '__ge__',\n",
              " '__getattribute__',\n",
              " '__getstate__',\n",
              " '__gt__',\n",
              " '__hash__',\n",
              " '__init__',\n",
              " '__init_subclass__',\n",
              " '__le__',\n",
              " '__lt__',\n",
              " '__module__',\n",
              " '__ne__',\n",
              " '__new__',\n",
              " '__reduce__',\n",
              " '__reduce_ex__',\n",
              " '__repr__',\n",
              " '__setattr__',\n",
              " '__sizeof__',\n",
              " '__str__',\n",
              " '__subclasshook__',\n",
              " '__weakref__']"
            ]
          },
          "metadata": {},
          "execution_count": 3
        }
      ]
    },
    {
      "cell_type": "code",
      "source": [
        "class Person:\n",
        "  def __init__(self,name,age):\n",
        "    self.name=name\n",
        "    self.age=age\n",
        "  def __str__(self):\n",
        "    return f\"The name is {self.name} and age is {self.age}\"\n",
        "\n",
        "  def __repr__(self):\n",
        "    return f\"Object created with {self.name} and {self.age}\"\n",
        "\n",
        "person=Person(\"Virat\",25)\n",
        "print(person)\n",
        "print(repr(person))\n",
        "#Now as you can see the object is represented as a string which is what the magic method __str__ does\n"
      ],
      "metadata": {
        "colab": {
          "base_uri": "https://localhost:8080/"
        },
        "id": "-IEix98v7a90",
        "outputId": "a1339307-7a7d-4f8e-81bb-274e260c4109"
      },
      "execution_count": 7,
      "outputs": [
        {
          "output_type": "stream",
          "name": "stdout",
          "text": [
            "The name is Virat and age is 25\n",
            "Object created with Virat and 25\n"
          ]
        }
      ]
    }
  ]
}