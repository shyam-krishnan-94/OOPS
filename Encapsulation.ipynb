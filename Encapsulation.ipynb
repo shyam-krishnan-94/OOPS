{
  "nbformat": 4,
  "nbformat_minor": 0,
  "metadata": {
    "colab": {
      "provenance": []
    },
    "kernelspec": {
      "name": "python3",
      "display_name": "Python 3"
    },
    "language_info": {
      "name": "python"
    }
  },
  "cells": [
    {
      "cell_type": "code",
      "execution_count": 1,
      "metadata": {
        "id": "SIkQBVObaVvm"
      },
      "outputs": [],
      "source": [
        "#Encapsulation is the concept of wrapping data (variables and methods) together as a single unit. It restricts direct access to some of the object components pr prevent accidental misuse"
      ]
    },
    {
      "cell_type": "code",
      "source": [
        "#Encapsulation with getter and setter methods\n",
        "#Public, Protected, Private variables or access modifiers\n",
        "\n",
        "class Person:\n",
        "  def __init__(self, name,age):\n",
        "    self.name=name\n",
        "    self.age=age\n",
        "    #Above are called public variables because these variables can be accessed from anywhere\n",
        "\n",
        "def get_name(object):\n",
        "  return object.name\n",
        "\n",
        "person=Person(\"ABC\",25)\n",
        "print(get_name(person))\n",
        "\n",
        "#see we are able to access the object variables from an external function also\n",
        "\n",
        "dir(person)"
      ],
      "metadata": {
        "colab": {
          "base_uri": "https://localhost:8080/"
        },
        "id": "wjGcqkVjbD3x",
        "outputId": "79276c85-56dd-4d50-b2da-2cf4bb51ce29"
      },
      "execution_count": 17,
      "outputs": [
        {
          "output_type": "stream",
          "name": "stdout",
          "text": [
            "ABC\n"
          ]
        },
        {
          "output_type": "execute_result",
          "data": {
            "text/plain": [
              "['__class__',\n",
              " '__delattr__',\n",
              " '__dict__',\n",
              " '__dir__',\n",
              " '__doc__',\n",
              " '__eq__',\n",
              " '__format__',\n",
              " '__ge__',\n",
              " '__getattribute__',\n",
              " '__getstate__',\n",
              " '__gt__',\n",
              " '__hash__',\n",
              " '__init__',\n",
              " '__init_subclass__',\n",
              " '__le__',\n",
              " '__lt__',\n",
              " '__module__',\n",
              " '__ne__',\n",
              " '__new__',\n",
              " '__reduce__',\n",
              " '__reduce_ex__',\n",
              " '__repr__',\n",
              " '__setattr__',\n",
              " '__sizeof__',\n",
              " '__str__',\n",
              " '__subclasshook__',\n",
              " '__weakref__',\n",
              " 'age',\n",
              " 'name']"
            ]
          },
          "metadata": {},
          "execution_count": 17
        }
      ]
    },
    {
      "cell_type": "code",
      "source": [
        "#Now, I want to create a private variable where access is restricted\n",
        "\n",
        "class Person:\n",
        "  def __init__(self, name,age,gender):\n",
        "    self.__name=name\n",
        "    self.__age=age\n",
        "    #Above are called private variables because these variables cannot be accessed from outside the class. Even the derived class cannot access it\n",
        "    self.gender=gender # This alone is a public variable\n",
        "\n",
        "\n",
        "def get_name(object):\n",
        "  return object.__name\n",
        "\n",
        "person=Person(\"ABC\",25,\"M\")\n",
        "print(get_name(person)) #This will thrown an error because name is a private variable\n",
        "#dir(person)"
      ],
      "metadata": {
        "colab": {
          "base_uri": "https://localhost:8080/",
          "height": 323
        },
        "id": "0oPPOLlLdAim",
        "outputId": "1f5d77b2-7071-4b45-d271-100e95494cdf"
      },
      "execution_count": 16,
      "outputs": [
        {
          "output_type": "error",
          "ename": "AttributeError",
          "evalue": "'Person' object has no attribute '__name'",
          "traceback": [
            "\u001b[0;31m---------------------------------------------------------------------------\u001b[0m",
            "\u001b[0;31mAttributeError\u001b[0m                            Traceback (most recent call last)",
            "\u001b[0;32m/tmp/ipython-input-955943138.py\u001b[0m in \u001b[0;36m<cell line: 0>\u001b[0;34m()\u001b[0m\n\u001b[1;32m     13\u001b[0m \u001b[0;34m\u001b[0m\u001b[0m\n\u001b[1;32m     14\u001b[0m \u001b[0mperson\u001b[0m\u001b[0;34m=\u001b[0m\u001b[0mPerson\u001b[0m\u001b[0;34m(\u001b[0m\u001b[0;34m\"ABC\"\u001b[0m\u001b[0;34m,\u001b[0m\u001b[0;36m25\u001b[0m\u001b[0;34m,\u001b[0m\u001b[0;34m\"M\"\u001b[0m\u001b[0;34m)\u001b[0m\u001b[0;34m\u001b[0m\u001b[0;34m\u001b[0m\u001b[0m\n\u001b[0;32m---> 15\u001b[0;31m \u001b[0mprint\u001b[0m\u001b[0;34m(\u001b[0m\u001b[0mget_name\u001b[0m\u001b[0;34m(\u001b[0m\u001b[0mperson\u001b[0m\u001b[0;34m)\u001b[0m\u001b[0;34m)\u001b[0m \u001b[0;31m#This will thrown an error because name is a private variable\u001b[0m\u001b[0;34m\u001b[0m\u001b[0;34m\u001b[0m\u001b[0m\n\u001b[0m\u001b[1;32m     16\u001b[0m \u001b[0;31m#dir(person)\u001b[0m\u001b[0;34m\u001b[0m\u001b[0;34m\u001b[0m\u001b[0m\n",
            "\u001b[0;32m/tmp/ipython-input-955943138.py\u001b[0m in \u001b[0;36mget_name\u001b[0;34m(object)\u001b[0m\n\u001b[1;32m     10\u001b[0m \u001b[0;34m\u001b[0m\u001b[0m\n\u001b[1;32m     11\u001b[0m \u001b[0;32mdef\u001b[0m \u001b[0mget_name\u001b[0m\u001b[0;34m(\u001b[0m\u001b[0mobject\u001b[0m\u001b[0;34m)\u001b[0m\u001b[0;34m:\u001b[0m\u001b[0;34m\u001b[0m\u001b[0;34m\u001b[0m\u001b[0m\n\u001b[0;32m---> 12\u001b[0;31m   \u001b[0;32mreturn\u001b[0m \u001b[0mobject\u001b[0m\u001b[0;34m.\u001b[0m\u001b[0m__name\u001b[0m\u001b[0;34m\u001b[0m\u001b[0;34m\u001b[0m\u001b[0m\n\u001b[0m\u001b[1;32m     13\u001b[0m \u001b[0;34m\u001b[0m\u001b[0m\n\u001b[1;32m     14\u001b[0m \u001b[0mperson\u001b[0m\u001b[0;34m=\u001b[0m\u001b[0mPerson\u001b[0m\u001b[0;34m(\u001b[0m\u001b[0;34m\"ABC\"\u001b[0m\u001b[0;34m,\u001b[0m\u001b[0;36m25\u001b[0m\u001b[0;34m,\u001b[0m\u001b[0;34m\"M\"\u001b[0m\u001b[0;34m)\u001b[0m\u001b[0;34m\u001b[0m\u001b[0;34m\u001b[0m\u001b[0m\n",
            "\u001b[0;31mAttributeError\u001b[0m: 'Person' object has no attribute '__name'"
          ]
        }
      ]
    },
    {
      "cell_type": "code",
      "source": [
        "#Now, how to access the private variables from inside the class\n",
        "\n",
        "#Encapsulation with getter and setter methods\n",
        "\n",
        "#Now, I want to create a private variable where access is restricted\n",
        "\n",
        "class Person:\n",
        "  def __init__(self, name,age,gender):\n",
        "    self.__name=name\n",
        "    self.__age=age\n",
        "    #Above are called private variables because these variables cannot be accessed from outside the class. Even the derived class cannot access it\n",
        "    self.gender=gender # This alone is a public variable\n",
        "\n",
        "\n",
        "  def get_name(self):\n",
        "    #This is called a getter method\n",
        "    return self.__name\n",
        "\n",
        "  def set_name(self,new_name):\n",
        "    #This is called setter method\n",
        "    self.__name=new_name\n",
        "    return self.__name,self.__age\n",
        "\n",
        "person=Person(\"ABC\",25,\"M\")\n",
        "print(person.get_name())\n",
        "print(person.set_name(\"shyam\"))\n",
        "print(person.get_name())\n",
        "\n",
        "#Now, see how the name is overwritten with the new name using the setter method using the previous line"
      ],
      "metadata": {
        "colab": {
          "base_uri": "https://localhost:8080/"
        },
        "id": "VWlr8WrIiMNZ",
        "outputId": "83271bbc-d6c4-41b0-fe0e-43f3b1e209ed"
      },
      "execution_count": 21,
      "outputs": [
        {
          "output_type": "stream",
          "name": "stdout",
          "text": [
            "ABC\n",
            "('shyam', 25)\n",
            "shyam\n"
          ]
        }
      ]
    },
    {
      "cell_type": "code",
      "source": [
        "#Now, I want to create a protected variable where access is restricted. These variables cannot be accessed from outside the class, but can be accessed from a derived class\n",
        "\n",
        "class Person:\n",
        "  def __init__(self, name,age,gender):\n",
        "    self._name=name\n",
        "    self._age=age\n",
        "    #Above are called protected variables because these variables cannot be accessed from outside the class. Shown by single underscore\n",
        "    self.gender=gender # This alone is a public variable\n",
        "\n",
        "class Employee(Person):\n",
        "  def __init__(self,name,age,gender,EmpID):\n",
        "    Person.__init__(self,name,age,gender)\n",
        "    self.EmpID=EmpID\n",
        "\n",
        "  def get_name(self):\n",
        "    return self._name,self.EmpID\n",
        "\n",
        "E=Employee(\"ABC\",25,\"M\",123)\n",
        "print(E.get_name()) #This will not thrown an error because the name variable is only protected and we can access it from the derived class\n",
        "#dir(person)"
      ],
      "metadata": {
        "colab": {
          "base_uri": "https://localhost:8080/"
        },
        "id": "F95pUJK2fBqW",
        "outputId": "55f7ad18-99aa-4e6d-d613-43f3b9eda5ab"
      },
      "execution_count": 15,
      "outputs": [
        {
          "output_type": "stream",
          "name": "stdout",
          "text": [
            "('ABC', 123)\n"
          ]
        }
      ]
    }
  ]
}