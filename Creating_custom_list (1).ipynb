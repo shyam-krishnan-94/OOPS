{
  "nbformat": 4,
  "nbformat_minor": 0,
  "metadata": {
    "colab": {
      "provenance": []
    },
    "kernelspec": {
      "name": "python3",
      "display_name": "Python 3"
    },
    "language_info": {
      "name": "python"
    }
  },
  "cells": [
    {
      "cell_type": "code",
      "execution_count": null,
      "metadata": {
        "colab": {
          "base_uri": "https://localhost:8080/"
        },
        "id": "PUMi5zSAEIpL",
        "outputId": "b75069f1-ac6c-4bc4-d6b1-cd535d60fad6"
      },
      "outputs": [
        {
          "output_type": "stream",
          "name": "stdout",
          "text": [
            "initial size: 56\n",
            "0-->88\n",
            "1-->88\n",
            "2-->88\n",
            "3-->88\n",
            "4-->120\n",
            "5-->120\n",
            "6-->120\n",
            "7-->120\n",
            "8-->184\n",
            "9-->184\n",
            "10-->184\n",
            "11-->184\n",
            "12-->184\n",
            "13-->184\n",
            "14-->184\n",
            "15-->184\n",
            "16-->248\n"
          ]
        }
      ],
      "source": [
        "import sys\n",
        "l1=[]\n",
        "\n",
        "print(\"initial size:\",sys.getsizeof(l1))\n",
        "\n",
        "for i in range(17):\n",
        "  l1.append(i)\n",
        "  print(f\"{i}-->{sys.getsizeof(l1)}\")\n",
        "\n",
        "#Look at how the size of the list gets increased dynamically as we add elements and copied the old elements from the smaller list.\n",
        "#This is not possible in arrays. The size is represented in bytes"
      ]
    },
    {
      "cell_type": "code",
      "source": [
        "a=1\n",
        "print(id(1))# 1 is stored in the memory location - 11654376\n",
        "#As discussed in the notes, python does not automatically store the values in the memory location allocated to another data type\n",
        "print(id(a))#Look at what this returns, the address where 1 is stored.\n",
        "l2=[]\n",
        "l2.append(a)\n",
        "print(id(l2[0]))#Even this returns the same address where 1 is stores which implies that Python only stores the references to the value in its data type allocated memory\n",
        "#If it had stored values directly, then each address will be different"
      ],
      "metadata": {
        "colab": {
          "base_uri": "https://localhost:8080/"
        },
        "id": "L6AVP0RqIVvX",
        "outputId": "99281df4-7afe-43c4-aaf3-5b3d6b6eeccf"
      },
      "execution_count": null,
      "outputs": [
        {
          "output_type": "stream",
          "name": "stdout",
          "text": [
            "11654376\n",
            "11654376\n",
            "11654376\n"
          ]
        }
      ]
    },
    {
      "cell_type": "code",
      "source": [
        "#implementing our own custom list\n",
        "\n",
        "import ctypes#This is just to create the array object the first time\n",
        "\n",
        "#This custom list class will have the size and capacity as the parameters. Initially the capacity is 1 and the size is 0\n",
        "#We have a private method __create_array which will help us create the initial array from the ctypes object with a capacity of 1\n",
        "class CustomList:\n",
        "  def __init__(self):\n",
        "    initialCapacity=1\n",
        "    self.capacity=initialCapacity\n",
        "    self.size=0\n",
        "    self.array=self.__create_array(self.capacity)\n",
        "\n",
        "  def __create_array(self,capacity):\n",
        "    return(capacity*ctypes.py_object)()\n",
        "    #Returns ctypes reference array, so we can store references.\n",
        "\n",
        "  #Go to the append method first and then you can come to resize\n",
        "\n",
        "  #Now, you have to do 2 things,\n",
        "  #Create a new array with the new capacity\n",
        "  #Now, copy all the elements from the old array to the new array\n",
        "  #Set the old array as the new array\n",
        "  #Set the capacity to the new capacity\n",
        "  def __resize(self,new_capacity):\n",
        "    new_array=self.__create_array(new_capacity)\n",
        "    for i in range(self.size):\n",
        "      new_array[i]=self.array[i]\n",
        "    self.array=new_array\n",
        "    self.capacity=new_capacity\n",
        "\n",
        "  #If we want to append an item, we pass that as a parameter. If the size of the array is already equal to the capacity, then we have to resize the array\n",
        "  #Now, we want to resize by multiples of 2 in this example, so we pass 2*self.capacity as parameter, now go to the resize function\n",
        "  def append(self,item):\n",
        "    if self.size==self.capacity:\n",
        "      self.__resize(2*self.capacity)\n",
        "\n",
        "    self.array[self.size]=item\n",
        "    self.size=self.size+1\n",
        "\n",
        "  #The pop function is simple, we first check if the array is empty by checking self.size. If it is zero, then throw an error message,\n",
        "  #Otherwise, set the popped element as the last element of the array[self.size-1]\n",
        "  #Set the current size as self.size-1\n",
        "  # and return the popped element\n",
        "\n",
        "  def pop(self):\n",
        "    if self.size==0:\n",
        "      return \"Empty List cannot pop\"\n",
        "    else:\n",
        "      popped_item=self.array[self.size-1]\n",
        "      self.size=self.size-1\n",
        "      return popped_item\n",
        "\n",
        "  #Get item is a magic method\n",
        "  def __getitem__(self,item_index):\n",
        "    if item_index>self.size or item_index<0:\n",
        "      return \"incorrect index\"\n",
        "\n",
        "    else:\n",
        "      return self.array[item_index]\n",
        "\n",
        "  def clear_array(self):\n",
        "      self.size=0\n",
        "\n",
        "\n",
        "  def insert_element(self,insert_index,insert_item):\n",
        "    if insert_index>self.size or insert_index<0:\n",
        "      return \"incorrect index\"\n",
        "    if self.size==self.capacity:\n",
        "      self.__resize(2*self.capacity)\n",
        "\n",
        "    for i in range(self.size,insert_index,-1):\n",
        "      self.array[i]=self.array[i-1]\n",
        "    self.size=self.size+1\n",
        "    self.array[insert_index]=insert_item\n",
        "\n",
        "  def search(self,search_item):\n",
        "    for i in range(self.size):\n",
        "      if self.array[i]==search_item:\n",
        "        return i\n",
        "\n",
        "    return False\n",
        "\n",
        "  def remove_element(self,remove_item):\n",
        "\n",
        "    remove_index=self.search(remove_item)\n",
        "    if remove_index:\n",
        "      for i in range(remove_index,self.size-1):\n",
        "        self.array[i]=self.array[i+1]\n",
        "\n",
        "      self.size=self.size-1\n",
        "\n",
        "    else:\n",
        "      return \"Item cannot be removed\"\n",
        "\n",
        "\n",
        "  #Here we return the current size of the array\n",
        "  def __len__(self):\n",
        "    return self.size\n",
        "\n",
        "\n",
        "  #Here we print the output, we use the magic method here __str__ where this will get invoked if we call the print function\n",
        "  #Initially the output is an empty string, so now we loop through the size of the array and append the elements to this string\n",
        "  #We dont print the last , by saying output[:-1]\n",
        "\n",
        "  def __str__(self):\n",
        "    output=''\n",
        "    for i in range(self.size):\n",
        "      output = output +str(self.array[i])+ ','\n",
        "\n",
        "    return '['+output[:-1]+']'\n",
        "\n",
        "\n",
        "\n",
        "myList=CustomList()\n",
        "myList.append(1)\n",
        "myList.append(2)\n",
        "myList.append(3)\n",
        "myList.append(4)\n",
        "#print(myList[1])\n",
        "#myList.clear_array()\n",
        "#print(myList)\n",
        "#myList.insert_element(1,100)\n",
        "print(myList)\n",
        "print(myList.remove_element(100))\n",
        "print(myList)\n",
        "print(\"Item found at:\",myList.search(2),\" Index\")\n",
        "\n"
      ],
      "metadata": {
        "colab": {
          "base_uri": "https://localhost:8080/"
        },
        "id": "dtvm8oIqD7js",
        "outputId": "c5ad7e9b-5310-4b5d-9dc7-ca429635f796"
      },
      "execution_count": null,
      "outputs": [
        {
          "output_type": "stream",
          "name": "stdout",
          "text": [
            "[1,2,3,4]\n",
            "Item cannot be removed\n",
            "[1,2,3,4]\n",
            "Item found at: 1  Index\n"
          ]
        }
      ]
    }
  ]
}