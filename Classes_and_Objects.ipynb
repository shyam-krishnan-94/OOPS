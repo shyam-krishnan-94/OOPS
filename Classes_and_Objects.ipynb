{
  "nbformat": 4,
  "nbformat_minor": 0,
  "metadata": {
    "colab": {
      "provenance": []
    },
    "kernelspec": {
      "name": "python3",
      "display_name": "Python 3"
    },
    "language_info": {
      "name": "python"
    }
  },
  "cells": [
    {
      "cell_type": "code",
      "execution_count": 1,
      "metadata": {
        "colab": {
          "base_uri": "https://localhost:8080/"
        },
        "id": "j1TWH3eP27Q4",
        "outputId": "2f5f8545-6895-4c37-954a-29f2a722e854"
      },
      "outputs": [
        {
          "output_type": "execute_result",
          "data": {
            "text/plain": [
              "__main__.car"
            ]
          },
          "metadata": {},
          "execution_count": 1
        }
      ],
      "source": [
        "#Classes are used to represent real world objects with parameters. Any variable that instantiates a class like the audi exaple becomes an object. So here audi is an object of class Car\n",
        "class car:\n",
        "  pass\n",
        "\n",
        "audi=car()\n",
        "type(audi)"
      ]
    },
    {
      "cell_type": "code",
      "source": [
        "\"\"\"\n",
        "Every object will have some attributes and its not possible for us to define and assign values for the attributes for each object we are going to be defining\n",
        "It will have multiple lines of code, for example, everytime I have to define the attribute audi.windows=4, tata.doors=2 etc. so we use constructor which is a method which will assign values to the instance variables of our objects during runtime\n",
        "We define self inside the constructor to make sure the variable names are different and for our understanding that we are assigning values during run time\n",
        "\"\"\"\n",
        "\n",
        "class Dog:\n",
        "  #This is a constructor where we can give all the attributes of the object in the constructor parameter().\n",
        "  #so while creating an object from the Dog class, we have to make sure we are defining the attributes also during runtime\n",
        "  #we have to create instance variables which will hold the values of the attributes self.name is an instance variable\n",
        "  def __init__(self,name,age,breed):\n",
        "    self.name=name\n",
        "    self.age=age\n",
        "    self.breed=breed\n",
        "\n",
        "#creating objects\n",
        "\n",
        "dog1=Dog(\"buddy\",15,\"terrier\")\n",
        "#This first line will always call the constructor first which will require us to give the values of attributes also"
      ],
      "metadata": {
        "id": "8d_7HAcw36Ts"
      },
      "execution_count": 6,
      "outputs": []
    },
    {
      "cell_type": "code",
      "source": [
        "#We will be able to access the instance variables here.\n",
        "print(dog1.name)\n",
        "print(dog1.age)\n",
        "print(dog1.breed)\n",
        "#The good thing here is we have already defined the instance variables inside the constructor itself\n",
        "#So, tomorrow if we need to create another attribute, we can define that inside the constructor and rerun the class code and that attribute will be available to all objects of that class via instance variables during runtime"
      ],
      "metadata": {
        "colab": {
          "base_uri": "https://localhost:8080/"
        },
        "id": "Q8Q_AubY8scu",
        "outputId": "f2806b8d-619f-4743-84be-e948962541aa"
      },
      "execution_count": 7,
      "outputs": [
        {
          "output_type": "stream",
          "name": "stdout",
          "text": [
            "buddy\n",
            "15\n",
            "terrier\n"
          ]
        }
      ]
    },
    {
      "cell_type": "code",
      "source": [
        "#Now, we can also define instance methods to do some particular functions with the instance variables assigned\n",
        "class Batter:\n",
        "  def __init__(self, innings, runs):\n",
        "    self.innings=innings\n",
        "    self.runs=runs\n",
        "  #Now, I want to do something with the instance variables and for that I would need the instance variables inside the methods\n",
        "  def avg(self):\n",
        "    print(self.runs/self.innings)"
      ],
      "metadata": {
        "id": "_Yb-y4Ij_NWu"
      },
      "execution_count": 8,
      "outputs": []
    },
    {
      "cell_type": "code",
      "source": [
        "Bat1=Batter(20,550)\n",
        "Bat1.avg()\n",
        "#This is how i access the instance methods"
      ],
      "metadata": {
        "colab": {
          "base_uri": "https://localhost:8080/"
        },
        "id": "RZWjgFYEAeDy",
        "outputId": "2453a34c-8174-45e9-c7b4-a515058d56c9"
      },
      "execution_count": 9,
      "outputs": [
        {
          "output_type": "stream",
          "name": "stdout",
          "text": [
            "27.5\n"
          ]
        }
      ]
    },
    {
      "cell_type": "code",
      "source": [
        "#we can also give default values in constructor instance variables\n",
        "class Batter:\n",
        "  def __init__(self, innings, runs=0):\n",
        "    self.innings=innings\n",
        "    self.runs=runs\n",
        "  #Now, I want to do something with the instance variables and for that I would need the instance variables inside the methods\n",
        "  def avg(self):\n",
        "    print(self.runs/self.innings)\n",
        "  def add_runs(self, runs_match):\n",
        "    self.runs=self.runs+runs_match"
      ],
      "metadata": {
        "id": "bnW0xVvEBSqd"
      },
      "execution_count": 12,
      "outputs": []
    },
    {
      "cell_type": "code",
      "source": [
        "bat2=Batter(20)\n",
        "bat2.add_runs(75)"
      ],
      "metadata": {
        "id": "yq5sUX7MBbcs"
      },
      "execution_count": 13,
      "outputs": []
    },
    {
      "cell_type": "code",
      "source": [
        "bat2.runs"
      ],
      "metadata": {
        "colab": {
          "base_uri": "https://localhost:8080/"
        },
        "id": "HSPXfi-GCE90",
        "outputId": "e5b522d1-7cd5-446a-841e-f2754359d7ea"
      },
      "execution_count": 14,
      "outputs": [
        {
          "output_type": "execute_result",
          "data": {
            "text/plain": [
              "75"
            ]
          },
          "metadata": {},
          "execution_count": 14
        }
      ]
    }
  ]
}