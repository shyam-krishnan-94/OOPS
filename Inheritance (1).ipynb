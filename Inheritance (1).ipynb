{
  "nbformat": 4,
  "nbformat_minor": 0,
  "metadata": {
    "colab": {
      "provenance": []
    },
    "kernelspec": {
      "name": "python3",
      "display_name": "Python 3"
    },
    "language_info": {
      "name": "python"
    }
  },
  "cells": [
    {
      "cell_type": "code",
      "execution_count": 8,
      "metadata": {
        "id": "QSUFpbFAtS5R"
      },
      "outputs": [],
      "source": [
        "#Allows a class to inherit the attributes and methods from another class\n",
        "\n",
        "#we will do single inheritance\n",
        "\n",
        "class Cricketer:\n",
        "  def __init__(self,name,country):#The things inside the bracket are called attributes of the object of class Cricketer\n",
        "    self.name=name\n",
        "    self.country=country\n",
        "    #The self.name and self.country are called instance variables which can be used anywhere inside the class\n",
        "\n",
        "  def display_info(self):\n",
        "    #Above line is called the instance methods\n",
        "    return self.name,self.country\n",
        "\n",
        "class Batsman(Cricketer):\n",
        "  def __init__(self,name,country,runs,strike_rate):\n",
        "    #Use the super() keyword to inherit the attributes and methods from the parent class\n",
        "    super().__init__(name,country)\n",
        "    self.runs=runs\n",
        "    self.strike_rate=strike_rate\n",
        "\n",
        "  def display_batting_stats(self):\n",
        "    return self.runs,self.strike_rate\n",
        "\n",
        "  def is_Explosive(self):\n",
        "    if self.strike_rate>140:\n",
        "      return \"Explosive\"\n",
        "    else:\n",
        "      return \"Not Explosive\""
      ]
    },
    {
      "cell_type": "code",
      "source": [
        "Batter1=Batsman(\"Virat\",\"India\",10000,150)"
      ],
      "metadata": {
        "id": "pcVyufZQyeJj"
      },
      "execution_count": 3,
      "outputs": []
    },
    {
      "cell_type": "code",
      "source": [
        "print(Batter1.display_info())"
      ],
      "metadata": {
        "colab": {
          "base_uri": "https://localhost:8080/"
        },
        "id": "CPwnPfaNzBsD",
        "outputId": "ef6d15b4-4fb2-4b6e-de75-566fe8c424af"
      },
      "execution_count": 4,
      "outputs": [
        {
          "output_type": "stream",
          "name": "stdout",
          "text": [
            "('Virat', 'India')\n"
          ]
        }
      ]
    },
    {
      "cell_type": "code",
      "source": [
        "print(Batter1.is_Explosive())"
      ],
      "metadata": {
        "colab": {
          "base_uri": "https://localhost:8080/"
        },
        "id": "sq6VbgDKzHBK",
        "outputId": "e6cd8705-6008-4ad0-eac4-47e0fd0fdf46"
      },
      "execution_count": 5,
      "outputs": [
        {
          "output_type": "stream",
          "name": "stdout",
          "text": [
            "Explosive\n"
          ]
        }
      ]
    },
    {
      "cell_type": "code",
      "source": [
        "print(Batter1.display_batting_stats())"
      ],
      "metadata": {
        "colab": {
          "base_uri": "https://localhost:8080/"
        },
        "id": "xau6nR5UzMVR",
        "outputId": "16c0e232-87e0-49c1-a6a3-db4a1b36701f"
      },
      "execution_count": 7,
      "outputs": [
        {
          "output_type": "stream",
          "name": "stdout",
          "text": [
            "(10000, 150)\n"
          ]
        }
      ]
    },
    {
      "cell_type": "code",
      "source": [
        "#We will do multiple inheritance\n",
        "#When a class inherits from more than 1 base class or parent class\n",
        "\n",
        "#Allows a class to inherit the attributes and methods from another class\n",
        "\n",
        "#we will do multiple inheritance\n",
        "\n",
        "class Cricketer:\n",
        "  def __init__(self,name,country):\n",
        "    self.name=name\n",
        "    self.country=country\n",
        "\n",
        "  def display_info(self):\n",
        "    return self.name,self.country\n",
        "\n",
        "class Batsman:\n",
        "  def __init__(self,runs,strike_rate):\n",
        "    #Use the super() keyword to inherit the attributes and methods from the parent class\n",
        "    #super().__init__(name,country)\n",
        "    self.runs=runs\n",
        "    self.strike_rate=strike_rate\n",
        "\n",
        "  def display_batting_stats(self):\n",
        "    return self.runs,self.strike_rate\n",
        "\n",
        "  def is_Explosive(self):\n",
        "    if self.strike_rate>140:\n",
        "      return \"Explosive\"\n",
        "    else:\n",
        "      return \"Not Explosive\"\n",
        "\n",
        "class Bowler:\n",
        "  def __init__(self,wickets,economy):\n",
        "    self.wickets=wickets\n",
        "    self.economy=economy\n",
        "\n",
        "  def display_bowling_stats(self):\n",
        "    return self.wickets,self.economy\n",
        "\n",
        "  def is_economical(self):\n",
        "    if self.economy<6:\n",
        "      return \"Economical\"\n",
        "    else:\n",
        "      return \"Expensive\"\n",
        "\n",
        "\n",
        "class AllRounder(Cricketer,Batsman,Bowler):\n",
        "  def __init__(self,name,country,runs,strike_rate,wickets,economy):\n",
        "    #Individually inherit classes into allrounder class, we have to give self in this case as we are calling it separately\n",
        "    Cricketer.__init__(self,name,country)\n",
        "    Batsman.__init__(self,runs,strike_rate)\n",
        "    Bowler.__init__(self,wickets,economy)\n",
        "\n",
        "  def display_all_stats(self):\n",
        "    return self.name,self.country,self.runs,self.strike_rate,self.wickets,self.economy\n",
        "\n",
        "  def is_economical(self):\n",
        "    if self.economy<5:\n",
        "      return \"Economical\"\n",
        "    return \"None\"\n",
        "\n",
        "  def overall_rating(self):\n",
        "    if self.is_economical()==\"Economical\" and self.is_Explosive()==\"Explosive\":\n",
        "      return \"Excellent\"\n",
        "    if self.is_economical()==\"Economical\" or self.is_Explosive()==\"Explosive\":\n",
        "      return \"Average\"\n",
        "    return \"Poor\"\n"
      ],
      "metadata": {
        "id": "IaDAYJLQzz2r"
      },
      "execution_count": 20,
      "outputs": []
    },
    {
      "cell_type": "code",
      "source": [
        "AR1=AllRounder(\"Hardik\",\"India\",2500,15,52,5.8)\n",
        "print(AR1.is_economical())\n",
        "\n",
        "#If there are 2 instance methods with the same name, then the instance method in the child class will take priority over the parent class"
      ],
      "metadata": {
        "colab": {
          "base_uri": "https://localhost:8080/"
        },
        "id": "A6oW0Uf3JHou",
        "outputId": "94a79234-8f97-4123-a2d2-6455a6aba76a"
      },
      "execution_count": 21,
      "outputs": [
        {
          "output_type": "stream",
          "name": "stdout",
          "text": [
            "None\n"
          ]
        }
      ]
    }
  ]
}